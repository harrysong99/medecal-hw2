{
  "nbformat": 4,
  "nbformat_minor": 0,
  "metadata": {
    "kernelspec": {
      "display_name": "Python 3",
      "language": "python",
      "name": "python3"
    },
    "language_info": {
      "codemirror_mode": {
        "name": "ipython",
        "version": 3
      },
      "file_extension": ".py",
      "mimetype": "text/x-python",
      "name": "python",
      "nbconvert_exporter": "python",
      "pygments_lexer": "ipython3",
      "version": "3.7.4"
    },
    "colab": {
      "name": "Assignment 2 Notebook.ipynb",
      "provenance": [],
      "collapsed_sections": []
    }
  },
  "cells": [
    {
      "cell_type": "markdown",
      "metadata": {
        "id": "YgWN-W2dYjch"
      },
      "source": [
        "# Assignment 2: Identifying Unreported Cases of COVID-19\n",
        "\n",
        "This assignment was adapted from [this paper](https://arxiv.org/abs/2006.02127), titled _Data-driven Identification of Number of Unreported Cases for COVID-19: Bounds and Limitations_. Feel free to read the paper if you like, but you will not need to know anything in the paper that is not explained here."
      ]
    },
    {
      "cell_type": "code",
      "metadata": {
        "id": "nC_pAEEkYjci"
      },
      "source": [
        "import pandas as pd\n",
        "import numpy as np\n",
        "import torch\n",
        "import matplotlib.pyplot as plt"
      ],
      "execution_count": null,
      "outputs": []
    },
    {
      "cell_type": "markdown",
      "metadata": {
        "id": "4mNW70xDYjcm"
      },
      "source": [
        "\n",
        "## Goal\n",
        "\n",
        "The goal of this assignment is to come up with a reasonable, data-driven estimate of how many people have COVID-19. You will have access to the data with the number of _reported_ cases. But the reported numbers are, of course, under-estimates because there are people who go unreported.\n",
        "\n",
        "It seems reasonable to assume that the number of people who have it is proportional to the number reported. \n",
        "\n",
        "$$\n",
        "\\text{Number infected} = k \\times \\text{Number Reported}, \\qquad k > 1\n",
        "$$\n",
        "\n",
        "Therefore, we just need to determine how many infected people a single case represents."
      ]
    },
    {
      "cell_type": "markdown",
      "metadata": {
        "id": "K6zAIRZiYjcn"
      },
      "source": [
        "## Model\n",
        "\n",
        "Recall that epidemiological models can have compartments representing groups of people with transition rates or probabilities between the compartments. In this assignment, we will have an _S_ (susceptible), an _I_ (infected), and an _R_ (reported) compartment. There's also a compartment for immune / isolated people who are, naturally, not connected to any other compartment. Let's call the total number of people in the population $N$.\n",
        "\n",
        "|Variable|Meaning|\n",
        "|--------|-------|\n",
        "|$S_t$|No. susceptible people at time $t$|\n",
        "|$I_t$|No. infected people at time $t$|\n",
        "|$R_t$|No. reported people at time $t$|\n",
        "|$N$|Total people in population|\n",
        "\n",
        "|Transition|Associated Rate|\n",
        "|----------|:---------------:|\n",
        "|$S \\to I$|Infection rate $\\beta$|\n",
        "|$I \\to R$|Reporting probability $\\gamma$|\n",
        "\n",
        "\n",
        "At some time that we'll call $t$, the number of infected people $I_t$ changes over time in the following way (this is just part of the model, so we will not justify it too much). We'll measure $t$ with days, so $t-7$ is the value a week before $t$.\n",
        "\n",
        "$$\n",
        "\\Delta I_t = \\frac{S_t}{N}\\beta \\left( I_{t} - I_{t-7} \\right).\n",
        "$$\n",
        "\n",
        "But we won't have access to the number infected people, so we need to rewrite this to be only in terms of reported numbers. I will wave my mathematical wand and tell you that\n",
        "\n",
        "\\begin{equation}\n",
        "\\Delta R_t = \\left(1 - \\frac{R_t}{\\gamma(1-\\rho)N} \\right)\\beta \\left( R_{t} - R_{t-7} \\right). \\tag{1}\n",
        "\\end{equation}\n",
        "\n",
        "In the equation above, $\\rho$ is the percent of people who are immune / isolated from COVID and therefore play no part in its spread. We have no information about who is immune or isolated, so the best we can do is absorb the constant and learn $\\bar\\gamma = \\gamma(1-\\rho)$ from the data. Observe that this makes the empirical value we find always an underestimate: $\\bar\\gamma \\leq \\gamma$.\n",
        "\n",
        "A derivation is included in section 3.1 of the paper if you're curious."
      ]
    },
    {
      "cell_type": "markdown",
      "metadata": {
        "id": "LVplVrKwYjcn"
      },
      "source": [
        "## Theory into practice\n",
        "\n",
        "Now it's your turn to start implementing these ideas! There are only a few big steps:\n",
        "\n",
        "1. Write code to do the computations according to the model equations.\n",
        "3. Use the case reports to find the parameters that best describe the data.\n",
        "4. Visualize / interpret our results."
      ]
    },
    {
      "cell_type": "code",
      "metadata": {
        "id": "0bWuQsAaYjco"
      },
      "source": [
        "def model(Xt, Rt, beta, gamma, N):\n",
        "    \"\"\"\n",
        "    Xt: an array of values [ Rt - R(t-7) ] for every time t\n",
        "    Rt: the number of reported cases at time t\n",
        "    beta: infection rate\n",
        "    gamma: reporting rate\n",
        "    \n",
        "    Return Delta Rt given data and parameters to model. \n",
        "    Basically implement equation 1. \n",
        "    \"\"\"\n",
        "    ### YOUR CODE HERE\n",
        "    return (1-(Rt[7:]/(gamma*N)))*beta*(Xt)\n",
        "\n",
        "def diff_with_delay(x, J):\n",
        "    \"\"\"\n",
        "    Returns the differences in x over a window of size J.\n",
        "    x is an array representing data sampled at regular intervals.\n",
        "    Therefore if J = 1, you would return [ x[1] - x[0], x[2] - x[1], ... ]\n",
        "    And if J = 2, you would return [ x[2] - x[0], x[3] - x[1], ... ]\n",
        "    \"\"\"\n",
        "    ### YOUR CODE HERE\n",
        "    i1, i2 = 0, J\n",
        "    res = []\n",
        "    while i2 < len(x):\n",
        "      res.append(x[i2]-x[i1])\n",
        "      i1 += 1\n",
        "      i2 += 1\n",
        "    return res\n",
        "\n",
        "def least_squares_error(Xt, Rt, beta, gamma, N):\n",
        "    preds       = model(Xt, Rt, beta, gamma, N)\n",
        "    delta_Rt    = (Rt[1:] - Rt[:-1])[6:]\n",
        "    ### YOUR CODE HERE\n",
        "    # Take a look here https://pytorch.org/docs/stable/nn.html to find a suitable loss function.\n",
        "    # We want a function that is the sum of the squares of difference between our predictions and the given values, perhaps multiplied by a constant.\n",
        "    # You just need to make lossFn point to a variable in the torch package. Do not call the function here.\n",
        "    lossFn = torch.nn.MSELoss\n",
        "    \n",
        "    loss = lossFn(reduction='sum')( preds, delta_Rt )\n",
        "    return loss"
      ],
      "execution_count": null,
      "outputs": []
    },
    {
      "cell_type": "code",
      "metadata": {
        "id": "ns6KZnM5Yjcr"
      },
      "source": [
        "# No need to touch this cell. We are providing this for you.\n",
        "# Retrieved from https://stackoverflow.com/questions/40443020/matlabs-smooth-implementation-n-point-moving-average-in-numpy-python\n",
        "def smooth(a,WSZ):\n",
        "    # a: NumPy 1-D array containing the data to be smoothed\n",
        "    # WSZ: smoothing window size needs, which must be odd number,\n",
        "    # as in the original MATLAB implementation\n",
        "    out0 = np.convolve(a,np.ones(WSZ,dtype=int),'valid')/WSZ    \n",
        "    r = np.arange(1,WSZ-1,2)\n",
        "    start = np.cumsum(a[:WSZ-1])[::2]/r\n",
        "    stop = (np.cumsum(a[:-WSZ:-1])[::2]/r)[::-1]\n",
        "    return np.concatenate((  start , out0, stop  ))"
      ],
      "execution_count": null,
      "outputs": []
    },
    {
      "cell_type": "markdown",
      "metadata": {
        "id": "bSi2cx7cYjct"
      },
      "source": [
        "We will now consider the cases in New York State. The code below loads the time series data and puts the New York cases in the `data` variable. $N$ is the population of New York."
      ]
    },
    {
      "cell_type": "code",
      "metadata": {
        "id": "D01P2oSkYjcu"
      },
      "source": [
        "df = pd.read_csv(\"./time_series_covid19_confirmed_US.csv\")\n",
        "# data = df[ df['Province_State'] == \"New York\" ].sum()\n",
        "### FOR CASES IN BERKELEY:\n",
        "data = df[ df['Admin2'] == \"Alameda\" ].sum()\n",
        "\n",
        "### YOUR CODE HERE\n",
        "# What does N represent again? (We discussed this at the top of the notebook)\n",
        "# Use the U.S. Census Bureau rather than the first number Google shows.\n",
        "N = 19378102\n",
        "\n",
        "# J is the window we will use. Leave as 7.\n",
        "J = 7"
      ],
      "execution_count": null,
      "outputs": []
    },
    {
      "cell_type": "code",
      "metadata": {
        "id": "PXmmO0VRYjcw"
      },
      "source": [
        "# data.keys() contains a lot of fields from the reports. \n",
        "# Select a slice of data.keys() so that it starts on the date 2/25/20 and ends on the data 7/6/20.\n",
        "\n",
        "### YOUR CODE HERE\n",
        "start = data.keys().get_loc(\"2/25/20\")\n",
        "end = data.keys().get_loc(\"7/7/20\")\n",
        "\n",
        "date_keys = data.keys()[start:end]"
      ],
      "execution_count": null,
      "outputs": []
    },
    {
      "cell_type": "code",
      "metadata": {
        "id": "4Etm0GYMYjcz",
        "colab": {
          "base_uri": "https://localhost:8080/",
          "height": 221
        },
        "outputId": "b670de97-e539-4d5a-f966-99069e5ebafd"
      },
      "source": [
        "# This cell just sets up variables useful later, but you don't need to do anything here.\n",
        "total_time_interval = [1, len(date_keys)]\n",
        "raw_total_cases = data[date_keys].to_numpy(dtype=np.float32)\n",
        "\n",
        "print(data[date_keys])\n",
        "\n",
        "Rt = smooth(data[start:end].to_numpy(dtype=np.float32), 7)\n",
        "\n",
        "training_interval = [ total_time_interval[1] - len(Rt) , total_time_interval[1] -1 ]\n",
        "model_interval = [training_interval[0] + 6, training_interval[1]]\n",
        "Xt = diff_with_delay(Rt, J)"
      ],
      "execution_count": null,
      "outputs": [
        {
          "output_type": "stream",
          "text": [
            "2/25/20       0\n",
            "2/26/20       0\n",
            "2/27/20       0\n",
            "2/28/20       0\n",
            "2/29/20       0\n",
            "           ... \n",
            "7/2/20     6384\n",
            "7/3/20     6472\n",
            "7/4/20     6556\n",
            "7/5/20     6855\n",
            "7/6/20     6855\n",
            "Length: 133, dtype: object\n"
          ],
          "name": "stdout"
        }
      ]
    },
    {
      "cell_type": "code",
      "metadata": {
        "id": "TTsy41r8Yjc1"
      },
      "source": [
        "beta = torch.tensor(np.random.rand() * 10 , requires_grad=True)\n",
        "gamma = torch.tensor(np.random.rand(),  requires_grad=True)\n",
        "\n",
        "Rt = torch.tensor(Rt, dtype=torch.double)\n",
        "Xt = torch.tensor(Xt, dtype=torch.double)"
      ],
      "execution_count": null,
      "outputs": []
    },
    {
      "cell_type": "code",
      "metadata": {
        "id": "icmqV56iYjc4",
        "colab": {
          "base_uri": "https://localhost:8080/",
          "height": 697
        },
        "outputId": "16198e07-fc19-4d97-9e84-994e3e100740"
      },
      "source": [
        "# This cell will iteratively adjust the model parameters to minimize model error.\n",
        "\n",
        "# What two variables do we want to optimize over? Hint: what controls the future predictions?\n",
        "### YOUR CODE HERE\n",
        "params = [beta, gamma]\n",
        "\n",
        "optimizer = torch.optim.Adam( params , lr=0.01 )\n",
        "\n",
        "steps = 4000\n",
        "for t in range(steps):\n",
        "    loss = least_squares_error(Xt, Rt, beta, gamma, N)\n",
        "    if t % 100 == 0:\n",
        "        print(\"After {} steps, the model's error = {}\".format(t, loss.item()))\n",
        "    optimizer.zero_grad()\n",
        "    loss.backward()\n",
        "    optimizer.step()"
      ],
      "execution_count": null,
      "outputs": [
        {
          "output_type": "stream",
          "text": [
            "After 0 steps, the model's error = 68036435.01893608\n",
            "After 100 steps, the model's error = 15989075.76644509\n",
            "After 200 steps, the model's error = 2090758.0997067182\n",
            "After 300 steps, the model's error = 150865.9437387739\n",
            "After 400 steps, the model's error = 15868.698415624855\n",
            "After 500 steps, the model's error = 11274.339359366919\n",
            "After 600 steps, the model's error = 11199.324838897659\n",
            "After 700 steps, the model's error = 11198.767418144434\n",
            "After 800 steps, the model's error = 11198.765717021806\n",
            "After 900 steps, the model's error = 11198.7657158554\n",
            "After 1000 steps, the model's error = 11198.7657158554\n",
            "After 1100 steps, the model's error = 11198.7657158554\n",
            "After 1200 steps, the model's error = 11198.765714258225\n",
            "After 1300 steps, the model's error = 11198.765697415538\n",
            "After 1400 steps, the model's error = 11198.765680718545\n",
            "After 1500 steps, the model's error = 11198.76566387688\n",
            "After 1600 steps, the model's error = 11198.765647035732\n",
            "After 1700 steps, the model's error = 11198.765630340258\n",
            "After 1800 steps, the model's error = 11198.765613500133\n",
            "After 1900 steps, the model's error = 11198.765596805675\n",
            "After 2000 steps, the model's error = 11198.765579966566\n",
            "After 2100 steps, the model's error = 11198.765563188475\n",
            "After 2200 steps, the model's error = 11198.765546351942\n",
            "After 2300 steps, the model's error = 11198.76552966106\n",
            "After 2400 steps, the model's error = 11198.765512756016\n",
            "After 2500 steps, the model's error = 11198.765496067688\n",
            "After 2600 steps, the model's error = 11198.765479234757\n",
            "After 2700 steps, the model's error = 11198.76546254745\n",
            "After 2800 steps, the model's error = 11198.76544571554\n",
            "After 2900 steps, the model's error = 11198.765429029241\n",
            "After 3000 steps, the model's error = 11198.765412148583\n",
            "After 3100 steps, the model's error = 11198.765390822504\n",
            "After 3200 steps, the model's error = 11198.765357311748\n",
            "After 3300 steps, the model's error = 11198.765323803025\n",
            "After 3400 steps, the model's error = 11198.765290296338\n",
            "After 3500 steps, the model's error = 11198.765256791676\n",
            "After 3600 steps, the model's error = 11198.76522328905\n",
            "After 3700 steps, the model's error = 11198.765189788457\n",
            "After 3800 steps, the model's error = 11198.765156289888\n",
            "After 3900 steps, the model's error = 11198.765122793362\n"
          ],
          "name": "stdout"
        }
      ]
    },
    {
      "cell_type": "code",
      "metadata": {
        "id": "tYWorIMoYjc6",
        "colab": {
          "base_uri": "https://localhost:8080/",
          "height": 34
        },
        "outputId": "6dbd95ef-99f9-42a1-92b0-816e7f8f9488"
      },
      "source": [
        "print(beta, gamma)"
      ],
      "execution_count": null,
      "outputs": [
        {
          "output_type": "stream",
          "text": [
            "tensor(0.1503, requires_grad=True) tensor(-0.1066, requires_grad=True)\n"
          ],
          "name": "stdout"
        }
      ]
    },
    {
      "cell_type": "code",
      "metadata": {
        "id": "S4XMijeAYjc8",
        "colab": {
          "base_uri": "https://localhost:8080/",
          "height": 313
        },
        "outputId": "afd2a1af-14dc-4d57-c017-1d1bc3beb734"
      },
      "source": [
        "plt.plot(np.diff(raw_total_cases), label = 'New Cases (Raw Data)')\n",
        "plt.plot(np.arange(*training_interval), np.diff(Rt), label = 'Training Data')\n",
        "preds = model(Xt, Rt, beta, gamma, N).detach().numpy()\n",
        "plt.plot(np.arange(*model_interval), preds, label = 'Model')\n",
        "plt.ylabel(\"Number of Cases\")\n",
        "plt.xlabel(\"Days from 2/25/20\")\n",
        "plt.legend()\n",
        "plt.figure()"
      ],
      "execution_count": null,
      "outputs": [
        {
          "output_type": "execute_result",
          "data": {
            "text/plain": [
              "<Figure size 432x288 with 0 Axes>"
            ]
          },
          "metadata": {
            "tags": []
          },
          "execution_count": 10
        },
        {
          "output_type": "display_data",
          "data": {
            "image/png": "[encoded data removed]",
            "text/plain": [
              "<Figure size 432x288 with 1 Axes>"
            ]
          },
          "metadata": {
            "tags": [],
            "needs_background": "light"
          }
        },
        {
          "output_type": "display_data",
          "data": {
            "text/plain": [
              "<Figure size 432x288 with 0 Axes>"
            ]
          },
          "metadata": {
            "tags": []
          }
        }
      ]
    },
    {
      "cell_type": "markdown",
      "metadata": {
        "id": "FeuPv-HVYjc-"
      },
      "source": [
        "# Questions / Exercises\n",
        "\n",
        "1. The plot above (hopefully) shows reasonable results from the model. How confident are you in the predictions that this model will make? How would you convince someone that this model's predictions are good? (What conclusion did we make about comparing models during Lecture 2?)\n",
        "2. What steps would you take to train a model and make a plot for the cases in Berkeley? Go ahead and try that. It should only require a few changes to this notebook.\n",
        "3. What assumption are we making about the values of $\\beta$ and $\\gamma$ over time?\n",
        "\n",
        "Put your answers in a markdown cell below.\n",
        "\n",
        "This week's paper is [Training Classifiers with Natural Language Explanations](https://arxiv.org/pdf/1805.03818.pdf). Give it a read and answer a few simple questions in the form."
      ]
    },
    {
      "cell_type": "markdown",
      "metadata": {
        "id": "zPzTSdZ7Yjc_"
      },
      "source": [
        "---\n",
        "\n",
        "Question answers here"
      ]
    },
    {
      "cell_type": "code",
      "metadata": {
        "id": "6sujBYa8Yjc_"
      },
      "source": [
        "# 1.  We know that the model's predictions are good if it is split into training and testing portions, every model uses the same traning data, \n",
        "#     and then evaulate models on traing data. The key way to test the model is to leave some of the data out!\n",
        "# 2.  Same steps as we did with the cases in New York but with cases in Berkeley\n",
        "# 3.  We can assume that the rate of infection and the rate of report decreases over time."
      ],
      "execution_count": null,
      "outputs": []
    }
  ]
}